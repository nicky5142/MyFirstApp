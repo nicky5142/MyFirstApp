{
  "nbformat": 4,
  "nbformat_minor": 0,
  "metadata": {
    "colab": {
      "name": "CNN.ipynb",
      "version": "0.3.2",
      "provenance": [],
      "collapsed_sections": [],
      "include_colab_link": true
    },
    "kernelspec": {
      "name": "python3",
      "display_name": "Python 3"
    },
    "accelerator": "GPU"
  },
  "cells": [
    {
      "cell_type": "markdown",
      "metadata": {
        "id": "view-in-github",
        "colab_type": "text"
      },
      "source": [
        "<a href=\"https://colab.research.google.com/github/nicky5142/MyFirstApp/blob/master/CNN.ipynb\" target=\"_parent\"><img src=\"https://colab.research.google.com/assets/colab-badge.svg\" alt=\"Open In Colab\"/></a>"
      ]
    },
    {
      "cell_type": "code",
      "metadata": {
        "id": "1z2taB0VQCvS",
        "colab_type": "code",
        "outputId": "84384e64-8e3e-44ba-9bc3-518768be37a4",
        "colab": {
          "base_uri": "https://localhost:8080/",
          "height": 126
        }
      },
      "source": [
        "! git clone https://jamiewu128@bitbucket.org/jamiewu128/asl_alphabet.git"
      ],
      "execution_count": 4,
      "outputs": [
        {
          "output_type": "stream",
          "text": [
            "Cloning into 'asl_alphabet'...\n",
            "remote: Counting objects: 87036, done.\u001b[K\n",
            "remote: Compressing objects: 100% (87034/87034), done.\u001b[K\n",
            "remote: Total 87036 (delta 0), reused 87033 (delta 0)\u001b[K\n",
            "Receiving objects: 100% (87036/87036), 1.01 GiB | 22.44 MiB/s, done.\n",
            "Checking out files: 100% (87029/87029), done.\n"
          ],
          "name": "stdout"
        }
      ]
    },
    {
      "cell_type": "code",
      "metadata": {
        "id": "zvV6Ijc7AZO9",
        "colab_type": "code",
        "colab": {}
      },
      "source": [
        "dataset_dir='/content/asl_alphabet/asl_alphabet_train'\n",
        "IMAGE_WIDTH=100\n",
        "IMAGE_HEIGHT=100\n",
        "IMAGE_CHANNELS=1 #chage RGB to Gray"
      ],
      "execution_count": 0,
      "outputs": []
    },
    {
      "cell_type": "code",
      "metadata": {
        "id": "j0twt4nrKpYa",
        "colab_type": "code",
        "colab": {}
      },
      "source": [
        "#image data path\n",
        "import os, shutil\n",
        "from os import listdir\n",
        "\n",
        "data_f=listdir(dataset_dir)\n",
        "filename=[]\n",
        "category=[]\n",
        "for fdname in data_f:\n",
        "  path=os.path.join(dataset_dir,fdname)\n",
        "  if os.path.isdir(path):\n",
        "    for fname in listdir(path):\n",
        "      tempfilename, file_extension = os.path.splitext(fname)\n",
        "      if file_extension=='.jpg':\n",
        "        filename.append(os.path.join(path,fname))\n",
        "        category.append(fdname)"
      ],
      "execution_count": 0,
      "outputs": []
    },
    {
      "cell_type": "code",
      "metadata": {
        "id": "r0W1wsXPAyyw",
        "colab_type": "code",
        "colab": {}
      },
      "source": [
        "# prepare image data\n",
        "import numpy as np\n",
        "import cv2\n",
        "img_ary=[]\n",
        "for path in filename:\n",
        "  img = cv2.imread(path,0) #Transfer image to color gray\n",
        "  img.resize((IMAGE_WIDTH,IMAGE_HEIGHT))\n",
        "  img_np=np.array(img)\n",
        "  img_ary.append(img_np)\n",
        " \n",
        "X = np.array(img_ary)"
      ],
      "execution_count": 0,
      "outputs": []
    },
    {
      "cell_type": "code",
      "metadata": {
        "id": "Cmnx6RICGW9R",
        "colab_type": "code",
        "colab": {}
      },
      "source": [
        "# prepare label\n",
        "import numpy as np\n",
        "from sklearn.preprocessing import LabelEncoder\n",
        "\n",
        "nb_classes = 29\n",
        "le = LabelEncoder()\n",
        "targets= le.fit_transform(category) #transform to integer\n",
        "\n",
        "Y = np.eye(nb_classes)[targets] # to one-hot"
      ],
      "execution_count": 0,
      "outputs": []
    },
    {
      "cell_type": "code",
      "metadata": {
        "id": "FE2S9tIpGvHM",
        "colab_type": "code",
        "colab": {}
      },
      "source": [
        "from sklearn.model_selection import train_test_split\n",
        "x_train, x_N, y_train, y_N = train_test_split(X, Y, test_size = 0.15, random_state = 42)\n",
        "x_test, x_valid, y_test, y_valid = train_test_split(x_N, y_N, test_size = 0.1, random_state = 42)"
      ],
      "execution_count": 0,
      "outputs": []
    },
    {
      "cell_type": "code",
      "metadata": {
        "id": "C9d_Q0wgIpxe",
        "colab_type": "code",
        "colab": {}
      },
      "source": [
        "#reshape\n",
        "x_train = x_train.reshape(-1,IMAGE_WIDTH,IMAGE_HEIGHT,1)\n",
        "x_test = x_test.reshape(-1,IMAGE_WIDTH,IMAGE_HEIGHT,1)\n",
        "x_valid = x_valid.reshape(-1,IMAGE_WIDTH,IMAGE_HEIGHT,1)\n"
      ],
      "execution_count": 0,
      "outputs": []
    },
    {
      "cell_type": "code",
      "metadata": {
        "id": "PtDAs4TBNLPN",
        "colab_type": "code",
        "colab": {
          "base_uri": "https://localhost:8080/",
          "height": 35
        },
        "outputId": "d0253d3a-6382-4cf6-dbcd-cbcbeae7f289"
      },
      "source": [
        "from keras.models import Sequential\n",
        "from keras.layers.convolutional import Conv2D,MaxPooling2D\n",
        "from keras.layers import Flatten\n",
        "from keras.layers import Dense\n",
        "from keras.layers import BatchNormalization"
      ],
      "execution_count": 11,
      "outputs": [
        {
          "output_type": "stream",
          "text": [
            "Using TensorFlow backend.\n"
          ],
          "name": "stderr"
        }
      ]
    },
    {
      "cell_type": "code",
      "metadata": {
        "id": "bTL5X5dvNe5e",
        "colab_type": "code",
        "colab": {}
      },
      "source": [
        "# Initialsing CNN\n",
        "classifier=Sequential()"
      ],
      "execution_count": 0,
      "outputs": []
    },
    {
      "cell_type": "code",
      "metadata": {
        "id": "x1sAOllCNlXk",
        "colab_type": "code",
        "colab": {
          "base_uri": "https://localhost:8080/",
          "height": 92
        },
        "outputId": "8e3ccce4-b3b9-4de4-88b8-ff9edc575a74"
      },
      "source": [
        "# First Convolution\n",
        "classifier.add(Conv2D(16,(3,3),activation='relu', input_shape=(IMAGE_WIDTH,IMAGE_HEIGHT,IMAGE_CHANNELS)))"
      ],
      "execution_count": 13,
      "outputs": [
        {
          "output_type": "stream",
          "text": [
            "WARNING:tensorflow:From /usr/local/lib/python3.6/dist-packages/tensorflow/python/framework/op_def_library.py:263: colocate_with (from tensorflow.python.framework.ops) is deprecated and will be removed in a future version.\n",
            "Instructions for updating:\n",
            "Colocations handled automatically by placer.\n"
          ],
          "name": "stdout"
        }
      ]
    },
    {
      "cell_type": "code",
      "metadata": {
        "id": "VKZdS3HO_nuw",
        "colab_type": "code",
        "colab": {}
      },
      "source": [
        "# First Batch Normalize\n",
        "#classifier.add(BatchNormalization())"
      ],
      "execution_count": 0,
      "outputs": []
    },
    {
      "cell_type": "code",
      "metadata": {
        "id": "2Fcgi8p3Qs6B",
        "colab_type": "code",
        "colab": {}
      },
      "source": [
        "# First Pooling\n",
        "classifier.add(MaxPooling2D(pool_size=(2,2)))"
      ],
      "execution_count": 0,
      "outputs": []
    },
    {
      "cell_type": "code",
      "metadata": {
        "id": "QjjI1UQ88PL6",
        "colab_type": "code",
        "colab": {}
      },
      "source": [
        "# Second Convolution and Pooling\n",
        "classifier.add(Conv2D(32,(3,3),activation='relu'))\n",
        "#classifier.add(BatchNormalization())\n",
        "classifier.add(MaxPooling2D(pool_size=(2,2)))"
      ],
      "execution_count": 0,
      "outputs": []
    },
    {
      "cell_type": "code",
      "metadata": {
        "id": "-lBAthZT8ZwS",
        "colab_type": "code",
        "colab": {}
      },
      "source": [
        "# Third Convolution and Pooling\n",
        "classifier.add(Conv2D(32,(3,3),activation='relu'))\n",
        "#classifier.add(BatchNormalization())\n",
        "classifier.add(MaxPooling2D(pool_size=(2,2)))"
      ],
      "execution_count": 0,
      "outputs": []
    },
    {
      "cell_type": "code",
      "metadata": {
        "id": "9ir3KOmWAU4b",
        "colab_type": "code",
        "colab": {}
      },
      "source": [
        "# Flattening\n",
        "classifier.add(Flatten())"
      ],
      "execution_count": 0,
      "outputs": []
    },
    {
      "cell_type": "code",
      "metadata": {
        "id": "IHwqKg1qAgdL",
        "colab_type": "code",
        "colab": {}
      },
      "source": [
        "# Full connection\n",
        "classifier.add(Dense(units=128, activation='relu'))\n",
        "classifier.add(Dense(units=nb_classes, activation='sigmoid'))"
      ],
      "execution_count": 0,
      "outputs": []
    },
    {
      "cell_type": "code",
      "metadata": {
        "id": "YxIjKs6RBrXN",
        "colab_type": "code",
        "outputId": "ec978456-a2cf-4d1d-81e6-865da84c0876",
        "colab": {
          "base_uri": "https://localhost:8080/",
          "height": 472
        }
      },
      "source": [
        "# Compiling CNN\n",
        "#學習速率\n",
        "from keras.optimizers import RMSprop\n",
        "#classifier.compile(loss = 'binary_crossentropy', optimizer = RMSprop(lr=0.001), metrics = ['accuracy'])\n",
        "classifier.compile(optimizer='adam',loss='binary_crossentropy',metrics=['accuracy'])\n",
        "classifier.summary()"
      ],
      "execution_count": 20,
      "outputs": [
        {
          "output_type": "stream",
          "text": [
            "_________________________________________________________________\n",
            "Layer (type)                 Output Shape              Param #   \n",
            "=================================================================\n",
            "conv2d_1 (Conv2D)            (None, 98, 98, 16)        160       \n",
            "_________________________________________________________________\n",
            "max_pooling2d_1 (MaxPooling2 (None, 49, 49, 16)        0         \n",
            "_________________________________________________________________\n",
            "conv2d_2 (Conv2D)            (None, 47, 47, 32)        4640      \n",
            "_________________________________________________________________\n",
            "max_pooling2d_2 (MaxPooling2 (None, 23, 23, 32)        0         \n",
            "_________________________________________________________________\n",
            "conv2d_3 (Conv2D)            (None, 21, 21, 32)        9248      \n",
            "_________________________________________________________________\n",
            "max_pooling2d_3 (MaxPooling2 (None, 10, 10, 32)        0         \n",
            "_________________________________________________________________\n",
            "flatten_1 (Flatten)          (None, 3200)              0         \n",
            "_________________________________________________________________\n",
            "dense_1 (Dense)              (None, 128)               409728    \n",
            "_________________________________________________________________\n",
            "dense_2 (Dense)              (None, 29)                3741      \n",
            "=================================================================\n",
            "Total params: 427,517\n",
            "Trainable params: 427,517\n",
            "Non-trainable params: 0\n",
            "_________________________________________________________________\n"
          ],
          "name": "stdout"
        }
      ]
    },
    {
      "cell_type": "code",
      "metadata": {
        "id": "I1l4n2aICXIi",
        "colab_type": "code",
        "outputId": "5e71f300-1fa8-42f5-abb4-4306ec1b3a48",
        "colab": {
          "base_uri": "https://localhost:8080/",
          "height": 783
        }
      },
      "source": [
        "# Fitting the CNN to the images\n",
        "history = classifier.fit(x_train,y_train,epochs=20,validation_data=(x_test,y_test))"
      ],
      "execution_count": 22,
      "outputs": [
        {
          "output_type": "stream",
          "text": [
            "Train on 73950 samples, validate on 11745 samples\n",
            "Epoch 1/20\n",
            "73950/73950 [==============================] - 19s 254us/step - loss: 0.0180 - acc: 0.9927 - val_loss: 0.0191 - val_acc: 0.9922\n",
            "Epoch 2/20\n",
            "73950/73950 [==============================] - 19s 251us/step - loss: 0.0173 - acc: 0.9929 - val_loss: 0.0176 - val_acc: 0.9928\n",
            "Epoch 3/20\n",
            "73950/73950 [==============================] - 19s 252us/step - loss: 0.0161 - acc: 0.9934 - val_loss: 0.0176 - val_acc: 0.9928\n",
            "Epoch 4/20\n",
            "73950/73950 [==============================] - 19s 260us/step - loss: 0.0151 - acc: 0.9938 - val_loss: 0.0194 - val_acc: 0.9920\n",
            "Epoch 5/20\n",
            "73950/73950 [==============================] - 19s 251us/step - loss: 0.0145 - acc: 0.9940 - val_loss: 0.0166 - val_acc: 0.9935\n",
            "Epoch 6/20\n",
            "73950/73950 [==============================] - 19s 252us/step - loss: 0.0140 - acc: 0.9943 - val_loss: 0.0181 - val_acc: 0.9928\n",
            "Epoch 7/20\n",
            "73950/73950 [==============================] - 19s 252us/step - loss: 0.0136 - acc: 0.9945 - val_loss: 0.0169 - val_acc: 0.9932\n",
            "Epoch 8/20\n",
            "73950/73950 [==============================] - 19s 260us/step - loss: 0.0131 - acc: 0.9946 - val_loss: 0.0206 - val_acc: 0.9924\n",
            "Epoch 9/20\n",
            "73950/73950 [==============================] - 19s 252us/step - loss: 0.0127 - acc: 0.9948 - val_loss: 0.0159 - val_acc: 0.9937\n",
            "Epoch 10/20\n",
            "73950/73950 [==============================] - 18s 250us/step - loss: 0.0122 - acc: 0.9950 - val_loss: 0.0185 - val_acc: 0.9930\n",
            "Epoch 11/20\n",
            "73950/73950 [==============================] - 19s 251us/step - loss: 0.0120 - acc: 0.9951 - val_loss: 0.0165 - val_acc: 0.9937\n",
            "Epoch 12/20\n",
            "73950/73950 [==============================] - 20s 267us/step - loss: 0.0118 - acc: 0.9953 - val_loss: 0.0170 - val_acc: 0.9936\n",
            "Epoch 13/20\n",
            "73950/73950 [==============================] - 19s 253us/step - loss: 0.0116 - acc: 0.9954 - val_loss: 0.0154 - val_acc: 0.9942\n",
            "Epoch 14/20\n",
            "73950/73950 [==============================] - 19s 251us/step - loss: 0.0115 - acc: 0.9954 - val_loss: 0.0179 - val_acc: 0.9935\n",
            "Epoch 15/20\n",
            "73950/73950 [==============================] - 19s 251us/step - loss: 0.0111 - acc: 0.9956 - val_loss: 0.0184 - val_acc: 0.9932\n",
            "Epoch 16/20\n",
            "73950/73950 [==============================] - 19s 252us/step - loss: 0.0105 - acc: 0.9958 - val_loss: 0.0194 - val_acc: 0.9932\n",
            "Epoch 17/20\n",
            "73950/73950 [==============================] - 19s 258us/step - loss: 0.0106 - acc: 0.9958 - val_loss: 0.0175 - val_acc: 0.9937\n",
            "Epoch 18/20\n",
            "73950/73950 [==============================] - 18s 250us/step - loss: 0.0103 - acc: 0.9959 - val_loss: 0.0180 - val_acc: 0.9937\n",
            "Epoch 19/20\n",
            "73950/73950 [==============================] - 19s 251us/step - loss: 0.0104 - acc: 0.9959 - val_loss: 0.0183 - val_acc: 0.9936\n",
            "Epoch 20/20\n",
            "73950/73950 [==============================] - 18s 250us/step - loss: 0.0101 - acc: 0.9961 - val_loss: 0.0218 - val_acc: 0.9932\n"
          ],
          "name": "stdout"
        }
      ]
    },
    {
      "cell_type": "code",
      "metadata": {
        "id": "FkVC0RAkxAiH",
        "colab_type": "code",
        "outputId": "bc1dacad-dc63-4921-b05f-440178aa360e",
        "colab": {
          "base_uri": "https://localhost:8080/",
          "height": 35
        }
      },
      "source": [
        "# Visualize Result\n",
        "history.history.keys()"
      ],
      "execution_count": 23,
      "outputs": [
        {
          "output_type": "execute_result",
          "data": {
            "text/plain": [
              "dict_keys(['val_loss', 'val_acc', 'loss', 'acc'])"
            ]
          },
          "metadata": {
            "tags": []
          },
          "execution_count": 23
        }
      ]
    },
    {
      "cell_type": "code",
      "metadata": {
        "id": "vtwcchyiw9yh",
        "colab_type": "code",
        "colab": {}
      },
      "source": [
        "acc = history.history['acc']\n",
        "val_acc = history.history['val_acc']\n",
        "loss = history.history['loss']\n",
        "val_loss = history.history['val_loss']\n",
        "epochs = range(1, len(acc) + 1)"
      ],
      "execution_count": 0,
      "outputs": []
    },
    {
      "cell_type": "code",
      "metadata": {
        "id": "GJVN8bKDxUKv",
        "colab_type": "code",
        "outputId": "123795a5-0f9f-4a8f-cc35-995bc9b9d787",
        "colab": {
          "base_uri": "https://localhost:8080/",
          "height": 299
        }
      },
      "source": [
        "import matplotlib.pyplot as plt\n",
        "plt.plot(epochs, acc, 'bo-', label='Training acc')\n",
        "plt.plot(epochs, val_acc, 'gs-', label='Training val_acc')\n",
        "plt.title('Train and Validation accuracy')\n",
        "plt.legend()"
      ],
      "execution_count": 25,
      "outputs": [
        {
          "output_type": "execute_result",
          "data": {
            "text/plain": [
              "<matplotlib.legend.Legend at 0x7fd7b0652860>"
            ]
          },
          "metadata": {
            "tags": []
          },
          "execution_count": 25
        },
        {
          "output_type": "display_data",
          "data": {
            "image/png": "[encoded data removed]",
            "text/plain": [
              "<Figure size 432x288 with 1 Axes>"
            ]
          },
          "metadata": {
            "tags": []
          }
        }
      ]
    },
    {
      "cell_type": "code",
      "metadata": {
        "id": "J2FCrC7Axt_F",
        "colab_type": "code",
        "outputId": "cd1bb6f6-c956-4ed0-80a2-65b91f2a6986",
        "colab": {
          "base_uri": "https://localhost:8080/",
          "height": 299
        }
      },
      "source": [
        "plt.plot(epochs, loss, 'ro-', label='Training loss')\n",
        "plt.plot(epochs, val_loss, 'bs-', label='Training val_loss')\n",
        "plt.title('Train and Validation loss')\n",
        "plt.legend()"
      ],
      "execution_count": 26,
      "outputs": [
        {
          "output_type": "execute_result",
          "data": {
            "text/plain": [
              "<matplotlib.legend.Legend at 0x7fd7b05d6470>"
            ]
          },
          "metadata": {
            "tags": []
          },
          "execution_count": 26
        },
        {
          "output_type": "display_data",
          "data": {
            "image/png": "[encoded data removed]",
            "text/plain": [
              "<Figure size 432x288 with 1 Axes>"
            ]
          },
          "metadata": {
            "tags": []
          }
        }
      ]
    },
    {
      "cell_type": "code",
      "metadata": {
        "id": "0ykGkSTygsap",
        "colab_type": "code",
        "colab": {
          "base_uri": "https://localhost:8080/",
          "height": 74
        },
        "outputId": "370d7fae-8d4c-4854-d857-e915d8259571"
      },
      "source": [
        "# Predict \n",
        "\n",
        "dataset_dir='/content/asl_alphabet/asl_alphabet_test'\n",
        "IMAGE_WIDTH=100\n",
        "IMAGE_HEIGHT=100\n",
        "IMAGE_CHANNELS=1 #chage RGB to Gray\n",
        "\n",
        "#image data path\n",
        "import os, shutil\n",
        "from os import listdir\n",
        "\n",
        "data_f=listdir(dataset_dir)\n",
        "filename=[]\n",
        "category=[]\n",
        "for fdname in data_f:\n",
        "  path=os.path.join(dataset_dir,fdname)\n",
        "  if os.path.isfile(path):\n",
        "      tempfilename, file_extension = os.path.splitext(fname)\n",
        "      if file_extension=='.jpg':\n",
        "        filename.append(path)\n",
        "        category.append(fdname.split('_')[0])\n",
        "print(filename)\n",
        "print(category)"
      ],
      "execution_count": 33,
      "outputs": [
        {
          "output_type": "stream",
          "text": [
            "['/content/asl_alphabet/asl_alphabet_test/D_test.jpg', '/content/asl_alphabet/asl_alphabet_test/space_test.jpg', '/content/asl_alphabet/asl_alphabet_test/O_test.jpg', '/content/asl_alphabet/asl_alphabet_test/W_test.jpg', '/content/asl_alphabet/asl_alphabet_test/nothing_test.jpg', '/content/asl_alphabet/asl_alphabet_test/U_test.jpg', '/content/asl_alphabet/asl_alphabet_test/C_test.jpg', '/content/asl_alphabet/asl_alphabet_test/V_test.jpg', '/content/asl_alphabet/asl_alphabet_test/I_test.jpg', '/content/asl_alphabet/asl_alphabet_test/A_test.jpg', '/content/asl_alphabet/asl_alphabet_test/P_test.jpg', '/content/asl_alphabet/asl_alphabet_test/K_test.jpg', '/content/asl_alphabet/asl_alphabet_test/G_test.jpg', '/content/asl_alphabet/asl_alphabet_test/N_test.jpg', '/content/asl_alphabet/asl_alphabet_test/R_test.jpg', '/content/asl_alphabet/asl_alphabet_test/M_test.jpg', '/content/asl_alphabet/asl_alphabet_test/E_test.jpg', '/content/asl_alphabet/asl_alphabet_test/X_test.jpg', '/content/asl_alphabet/asl_alphabet_test/L_test.jpg', '/content/asl_alphabet/asl_alphabet_test/F_test.jpg', '/content/asl_alphabet/asl_alphabet_test/H_test.jpg', '/content/asl_alphabet/asl_alphabet_test/T_test.jpg', '/content/asl_alphabet/asl_alphabet_test/Z_test.jpg', '/content/asl_alphabet/asl_alphabet_test/S_test.jpg', '/content/asl_alphabet/asl_alphabet_test/J_test.jpg', '/content/asl_alphabet/asl_alphabet_test/Q_test.jpg', '/content/asl_alphabet/asl_alphabet_test/B_test.jpg', '/content/asl_alphabet/asl_alphabet_test/Y_test.jpg']\n",
            "['D', 'space', 'O', 'W', 'nothing', 'U', 'C', 'V', 'I', 'A', 'P', 'K', 'G', 'N', 'R', 'M', 'E', 'X', 'L', 'F', 'H', 'T', 'Z', 'S', 'J', 'Q', 'B', 'Y']\n"
          ],
          "name": "stdout"
        }
      ]
    },
    {
      "cell_type": "code",
      "metadata": {
        "id": "mNmAuufflTG7",
        "colab_type": "code",
        "colab": {}
      },
      "source": [
        "# prepare image data\n",
        "import numpy as np\n",
        "import cv2\n",
        "img_ary=[]\n",
        "for path in filename:\n",
        "  img = cv2.imread(path,0) #Transfer image to color gray\n",
        "  img.resize((IMAGE_WIDTH,IMAGE_HEIGHT))\n",
        "  img_np=np.array(img)\n",
        "  img_ary.append(img_np)\n",
        " \n",
        "X = np.array(img_ary)"
      ],
      "execution_count": 0,
      "outputs": []
    },
    {
      "cell_type": "code",
      "metadata": {
        "id": "5KGHz37AlUnb",
        "colab_type": "code",
        "colab": {}
      },
      "source": [
        "# prepare label\n",
        "import numpy as np\n",
        "from sklearn.preprocessing import LabelEncoder\n",
        "\n",
        "nb_classes = 29\n",
        "le = LabelEncoder()\n",
        "targets= le.fit_transform(category) #transform to integer\n",
        "\n",
        "Y = np.eye(nb_classes)[targets] # to one-hot"
      ],
      "execution_count": 0,
      "outputs": []
    },
    {
      "cell_type": "code",
      "metadata": {
        "id": "aXoQpp36lhhz",
        "colab_type": "code",
        "colab": {}
      },
      "source": [
        "#reshape\n",
        "X = X.reshape(-1,IMAGE_WIDTH,IMAGE_HEIGHT,1)"
      ],
      "execution_count": 0,
      "outputs": []
    },
    {
      "cell_type": "code",
      "metadata": {
        "id": "tHMSHl_Wk6uF",
        "colab_type": "code",
        "colab": {
          "base_uri": "https://localhost:8080/",
          "height": 181
        },
        "outputId": "3998b252-a952-42cc-8f0d-ee1d67b29997"
      },
      "source": [
        "pred_Y = classifier.predict(X)\n",
        "\n",
        "#Show First Label vs Predict\n",
        "print(\"Category=%s,\\nResult=%s,\\nPredicted=%s\" % (category[0], Y[0], pred_Y[0]))"
      ],
      "execution_count": 87,
      "outputs": [
        {
          "output_type": "stream",
          "text": [
            "Category=D,\n",
            "Result=[0. 0. 0. 1. 0. 0. 0. 0. 0. 0. 0. 0. 0. 0. 0. 0. 0. 0. 0. 0. 0. 0. 0. 0.\n",
            " 0. 0. 0. 0. 0.],\n",
            "Predicted=[0.000000e+00 0.000000e+00 3.695488e-06 1.000000e+00 0.000000e+00\n",
            " 0.000000e+00 0.000000e+00 0.000000e+00 0.000000e+00 0.000000e+00\n",
            " 0.000000e+00 0.000000e+00 0.000000e+00 0.000000e+00 0.000000e+00\n",
            " 0.000000e+00 0.000000e+00 0.000000e+00 0.000000e+00 0.000000e+00\n",
            " 0.000000e+00 0.000000e+00 0.000000e+00 0.000000e+00 0.000000e+00\n",
            " 0.000000e+00 0.000000e+00 0.000000e+00 0.000000e+00]\n"
          ],
          "name": "stdout"
        }
      ]
    },
    {
      "cell_type": "code",
      "metadata": {
        "id": "nMxgnsbJrkKR",
        "colab_type": "code",
        "colab": {
          "base_uri": "https://localhost:8080/",
          "height": 526
        },
        "outputId": "e8078945-b9db-4f1f-c047-a3fdc4ad1539"
      },
      "source": [
        "# show the inputs and predicted outputs\n",
        "successCount=0\n",
        "for i in range(len(category)):\n",
        "  Y_label_position=Y[i].tolist().index(max(Y[i]))\n",
        "  pred_Y_label_position=pred_Y[i].tolist().index(max(pred_Y[i]))\n",
        "  Accurate=Y_label_position==pred_Y_label_position\n",
        "  print(\"category=%s, Accurate=%s\" % (category[i],  Accurate))\n",
        "  if Accurate:\n",
        "    successCount+=1"
      ],
      "execution_count": 93,
      "outputs": [
        {
          "output_type": "stream",
          "text": [
            "category=D, Accurate=True\n",
            "category=space, Accurate=False\n",
            "category=O, Accurate=True\n",
            "category=W, Accurate=True\n",
            "category=nothing, Accurate=False\n",
            "category=U, Accurate=True\n",
            "category=C, Accurate=True\n",
            "category=V, Accurate=True\n",
            "category=I, Accurate=True\n",
            "category=A, Accurate=True\n",
            "category=P, Accurate=True\n",
            "category=K, Accurate=True\n",
            "category=G, Accurate=True\n",
            "category=N, Accurate=True\n",
            "category=R, Accurate=True\n",
            "category=M, Accurate=True\n",
            "category=E, Accurate=True\n",
            "category=X, Accurate=True\n",
            "category=L, Accurate=True\n",
            "category=F, Accurate=True\n",
            "category=H, Accurate=True\n",
            "category=T, Accurate=True\n",
            "category=Z, Accurate=True\n",
            "category=S, Accurate=True\n",
            "category=J, Accurate=True\n",
            "category=Q, Accurate=True\n",
            "category=B, Accurate=True\n",
            "category=Y, Accurate=True\n"
          ],
          "name": "stdout"
        }
      ]
    },
    {
      "cell_type": "code",
      "metadata": {
        "id": "uovAJXk1sskZ",
        "colab_type": "code",
        "colab": {
          "base_uri": "https://localhost:8080/",
          "height": 35
        },
        "outputId": "c92e8cac-1bad-4a07-d317-731349f55009"
      },
      "source": [
        "print('Accurancy %s' % (successCount/len(category)))"
      ],
      "execution_count": 94,
      "outputs": [
        {
          "output_type": "stream",
          "text": [
            "Accurancy 0.9285714285714286\n"
          ],
          "name": "stdout"
        }
      ]
    }
  ]
}